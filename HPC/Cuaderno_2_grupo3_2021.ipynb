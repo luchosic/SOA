{
  "nbformat": 4,
  "nbformat_minor": 0,
  "metadata": {
    "colab": {
      "name": "Cuaderno_2_grupo3_2021.ipynb",
      "provenance": [],
      "collapsed_sections": [
        "Qtiz4_7bmaDe",
        "ufDYy0LPmbYH"
      ],
      "include_colab_link": true
    },
    "kernelspec": {
      "name": "python3",
      "display_name": "Python 3"
    },
    "accelerator": "GPU"
  },
  "cells": [
    {
      "cell_type": "markdown",
      "metadata": {
        "id": "view-in-github",
        "colab_type": "text"
      },
      "source": [
        "<a href=\"https://colab.research.google.com/github/luchosic/SOA/blob/main/HPC/Cuaderno_2_grupo3_2021.ipynb\" target=\"_parent\"><img src=\"https://colab.research.google.com/assets/colab-badge.svg\" alt=\"Open In Colab\"/></a>"
      ]
    },
    {
      "cell_type": "markdown",
      "metadata": {
        "id": "qoYPFWcielY3"
      },
      "source": [
        "# 1 Introducción\n",
        "\n",
        "En este ejercicio vamos a demostrar cómo varia el tiempo de ejecución de un programa que multiplica matrices, utilizando CPU vs GPU. Este es un típico problema donde el uso de la GPU ayuda a disminuir el tiempo de procesamiento cuando la complejidad del algoritmo aumenta.</br></br>\n",
        "\n",
        "La multiplicación de matrices se realiza de la siguiente forma:\n",
        "\n",
        "![multiplicacion_matrices.png](data:image/png;base64,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)\n"
      ]
    },
    {
      "cell_type": "markdown",
      "metadata": {
        "id": "soK0VJ2YgVSY"
      },
      "source": [
        "# 2 Armado del ambiente\n",
        "\n"
      ]
    },
    {
      "cell_type": "code",
      "metadata": {
        "id": "P4O5kQty5Voy"
      },
      "source": [
        "#@title ## 2.1 Parámetros de ejecución\n",
        "#@markdown ### Especifique el inicio del rango de valores numéricos que tendrá la matriz\n",
        "inicio_rango =   1#@param {type: \"number\"}\n",
        "#@markdown ### Especifique el fin del rango de valores numéricos que tendrá la matriz\n",
        "fin_rango =   50#@param {type: \"number\"}\n",
        "\n",
        "#@markdown ### Especifique el tamaño de la matriz\n",
        "tamano_matriz =   300#@param {type: \"number\"}"
      ],
      "execution_count": 12,
      "outputs": []
    },
    {
      "cell_type": "markdown",
      "metadata": {
        "id": "7fkVrBR_5Q5Z"
      },
      "source": [
        "# 3 Desarrollo CPU"
      ]
    },
    {
      "cell_type": "code",
      "metadata": {
        "id": "8_uVXVJjz_Jr",
        "colab": {
          "base_uri": "https://localhost:8080/"
        },
        "outputId": "d2e0767b-0904-4094-88fb-2c6bc9387cc3"
      },
      "source": [
        "%matplotlib inline\n",
        "from datetime import datetime\n",
        "\n",
        "tiempo_total_cpu = datetime.now()\n",
        "\n",
        "import matplotlib.pyplot as plt\n",
        "import numpy\n",
        "import random\n",
        "\n",
        "#inicializo las matrices cuadradas con valores random dentro del rango ingresado por el usuario\n",
        "matriz_a = (fin_rango - inicio_rango) * numpy.random.random((tamano_matriz, tamano_matriz)) + inicio_rango\n",
        "matriz_b = (fin_rango - inicio_rango) * numpy.random.random((tamano_matriz, tamano_matriz)) + inicio_rango\n",
        "matriz_resultado = (fin_rango - inicio_rango) * numpy.random.random((tamano_matriz, tamano_matriz)) + inicio_rango\n",
        "\n",
        "\n",
        "# Itero por filas de X\n",
        "for i in range(len(matriz_a)):\n",
        "   # Itero por columnas de Y\n",
        "   for j in range(len(matriz_b[0])):\n",
        "       # itero por filas de Y\n",
        "       for k in range(len(matriz_b)):\n",
        "           matriz_resultado[i][j] += matriz_a[i][k] * matriz_b[k][j]\n",
        "\n",
        "if tamano_matriz <= 10:\n",
        "  print( \"\\n\\nMatriz Resultado:\" )\n",
        "  for r in matriz_resultado:\n",
        "    print(r)\n",
        "else:\n",
        "  print( \"\\n\\nListo! Ya calculamos tu matriz resultado. Como es muy grande, no la mostramos por pantalla :)\" )\n",
        "\n",
        "tiempo_total_cpu = datetime.now() - tiempo_total_cpu  "
      ],
      "execution_count": 13,
      "outputs": [
        {
          "output_type": "stream",
          "name": "stdout",
          "text": [
            "\n",
            "\n",
            "Listo! Ya calculamos tu matriz resultado. Como es muy grande, no la mostramos por pantalla :)\n"
          ]
        }
      ]
    },
    {
      "cell_type": "markdown",
      "metadata": {
        "id": "4kPUTPng3dfP"
      },
      "source": [
        "# 4 Desarrollo GPU"
      ]
    },
    {
      "cell_type": "markdown",
      "metadata": {
        "id": "TWC6EiXb6X42"
      },
      "source": [
        "# 4.1 Instala en el cuaderno el módulo CUDA de Python."
      ]
    },
    {
      "cell_type": "code",
      "metadata": {
        "colab": {
          "base_uri": "https://localhost:8080/"
        },
        "id": "EN9Kf5eT6dNa",
        "outputId": "f15e3dba-b019-421c-9a91-1b62ecf92193"
      },
      "source": [
        "!pip install pycuda"
      ],
      "execution_count": 14,
      "outputs": [
        {
          "output_type": "stream",
          "name": "stdout",
          "text": [
            "Requirement already satisfied: pycuda in /usr/local/lib/python3.7/dist-packages (2021.1)\n",
            "Requirement already satisfied: pytools>=2011.2 in /usr/local/lib/python3.7/dist-packages (from pycuda) (2021.2.9)\n",
            "Requirement already satisfied: appdirs>=1.4.0 in /usr/local/lib/python3.7/dist-packages (from pycuda) (1.4.4)\n",
            "Requirement already satisfied: mako in /usr/local/lib/python3.7/dist-packages (from pycuda) (1.1.6)\n",
            "Requirement already satisfied: numpy>=1.6.0 in /usr/local/lib/python3.7/dist-packages (from pytools>=2011.2->pycuda) (1.19.5)\n",
            "Requirement already satisfied: MarkupSafe>=0.9.2 in /usr/local/lib/python3.7/dist-packages (from mako->pycuda) (2.0.1)\n"
          ]
        }
      ]
    },
    {
      "cell_type": "markdown",
      "metadata": {
        "id": "XNh4N4Ff6l4e"
      },
      "source": [
        "# 4.2 Procesamiento con GPU"
      ]
    },
    {
      "cell_type": "code",
      "metadata": {
        "colab": {
          "base_uri": "https://localhost:8080/"
        },
        "id": "TPO5hvuD4sbr",
        "outputId": "19fcb9b0-f44e-4cf0-f30a-52b619517ef6"
      },
      "source": [
        "%matplotlib inline\n",
        "from datetime import datetime\n",
        "tiempo_total_gpu = datetime.now()\n",
        "\n",
        "import matplotlib.pyplot as plt\n",
        "import numpy\n",
        "from PIL import Image \n",
        "import pycuda.driver as cuda\n",
        "import pycuda.autoinit\n",
        "from pycuda.compiler import SourceModule\n",
        "\n",
        "#Inicializo las matrices con valores random dentro del rango ingresado por el usuario, del tamaño establecido tambien por parámetro\n",
        "matriz_a = (fin_rango - inicio_rango) * numpy.random.random((tamano_matriz, tamano_matriz)) + inicio_rango\n",
        "matriz_a = matriz_a.astype(numpy.float32)\n",
        "matriz_b = (fin_rango - inicio_rango) * numpy.random.random((tamano_matriz, tamano_matriz)) + inicio_rango\n",
        "matriz_b = matriz_b.astype(numpy.float32)\n",
        "matriz_resultado = (fin_rango - inicio_rango) * numpy.random.random((tamano_matriz, tamano_matriz)) + inicio_rango\n",
        "matriz_resultado = matriz_resultado.astype(numpy.float32)\n",
        "\n",
        "#Reservo espacio en memoria GPU\n",
        "matriz_a_gpu = cuda.mem_alloc(matriz_a.nbytes)\n",
        "matriz_b_gpu = cuda.mem_alloc(matriz_b.nbytes)\n",
        "matriz_resultado_gpu = cuda.mem_alloc(matriz_resultado.nbytes)\n",
        "\n",
        "#Copio las matrices a GPU\n",
        "cuda.memcpy_htod(matriz_a_gpu, matriz_a)\n",
        "cuda.memcpy_htod(matriz_b_gpu, matriz_b)\n",
        "cuda.memcpy_htod(matriz_resultado_gpu, matriz_resultado)\n",
        "\n",
        "\n",
        "\n",
        "# CPU - Defino la función kernel que ejecutará en GPU.\n",
        "module = SourceModule(\"\"\"\n",
        "__global__ void matrixMultiplicationKernel(float* A, float* B, float* C, int N) {\n",
        "    int ROW = threadIdx.x + blockIdx.x*blockDim.x;\n",
        "    int COL = threadIdx.y + blockIdx.y*blockDim.y;\n",
        "    float tmpSum = 0;\n",
        "    if (ROW < N && COL < N) {\n",
        "        // each thread computes one element of the block sub-matrix\n",
        "        for (int i = 0; i < N; ++i) {\n",
        "            tmpSum += A[ROW * N + i] * B[i * N + COL];\n",
        "        }\n",
        "        C[ROW * N + COL] = tmpSum;\n",
        "    }\n",
        "}\n",
        "\"\"\") \n",
        "\n",
        "# CPU - Genero la función kernel.\n",
        "kernel = module.get_function(\"matrixMultiplicationKernel\")\n",
        "\n",
        "dim_hilo_x = 16\n",
        "dim_bloque_x = numpy.int( (tamano_matriz+dim_hilo_x-1) / dim_hilo_x )\n",
        "\n",
        "dim_hilo_y = 19\n",
        "dim_bloque_y = numpy.int( (tamano_matriz+dim_hilo_y-1) / dim_hilo_y )\n",
        "\n",
        "#Ejecuto la funcion de kernel\n",
        "kernel(matriz_a_gpu, matriz_b_gpu, matriz_resultado_gpu, numpy.int32(tamano_matriz), block=(dim_hilo_x, dim_hilo_y, 1), grid=(dim_bloque_x, dim_bloque_y,1))\n",
        "\n",
        " # GPU - Copio el resultado desde la memoria GPU.\n",
        "cuda.memcpy_dtoh(matriz_resultado, matriz_resultado_gpu)\n",
        "\n",
        "if tamano_matriz <= 10:\n",
        "  print( \"\\n\\nMatriz Resultado:\" )\n",
        "  for r in matriz_resultado:\n",
        "    print(r)\n",
        "else:\n",
        "  print( \"\\n\\nListo! Ya calculamos tu matriz resultado. Como es muy grande, no la mostramos por pantalla :)\" )\n",
        "\n",
        "tiempo_total_gpu = datetime.now() - tiempo_total_gpu\n",
        "\n"
      ],
      "execution_count": 18,
      "outputs": [
        {
          "output_type": "stream",
          "name": "stdout",
          "text": [
            "\n",
            "\n",
            "Listo! Ya calculamos tu matriz resultado. Como es muy grande, no la mostramos por pantalla :)\n"
          ]
        }
      ]
    },
    {
      "cell_type": "markdown",
      "metadata": {
        "id": "PalojWyL6cN4"
      },
      "source": [
        "# 5 Métricas"
      ]
    },
    {
      "cell_type": "code",
      "metadata": {
        "colab": {
          "base_uri": "https://localhost:8080/"
        },
        "id": "nYg8ov0i5HZb",
        "outputId": "428f96c6-069a-46fd-e947-cdbe0ac3c6d9"
      },
      "source": [
        "from tabulate import tabulate\n",
        "data = [['Tiempo total de procesamiento', tiempo_total_cpu, tiempo_total_gpu]]\n",
        "print (tabulate(data, headers=[\"Métrica\", \"CPU\", \"GPU\"]))\n",
        "\n",
        "print( \"\\n\\nDatos de corrida con GPU:\" )\n",
        "print( \"Thread: [\", dim_hilo_x, \",\", dim_hilo_y, \" ], Bloque : [\", dim_bloque_x, \",\", dim_bloque_y, \"]\" )\n",
        "print( \"Total de Thread: [\", dim_hilo_x*dim_bloque_x, \",\", dim_hilo_y*dim_bloque_y, \" ]\", \" = \", dim_hilo_x*dim_bloque_x*dim_hilo_y*dim_bloque_y )\n",
        "\n",
        "\n"
      ],
      "execution_count": 17,
      "outputs": [
        {
          "output_type": "stream",
          "name": "stdout",
          "text": [
            "Métrica                        CPU             GPU\n",
            "-----------------------------  --------------  --------------\n",
            "Tiempo total de procesamiento  0:00:39.735110  0:00:01.303929\n",
            "\n",
            "\n",
            "Datos de corrida con GPU:\n",
            "Thread: [ 16 , 19  ], Bloque : [ 19 , 16 ]\n",
            "Total de Thread: [ 304 , 304  ]  =  92416\n"
          ]
        }
      ]
    },
    {
      "cell_type": "markdown",
      "metadata": {
        "id": "Qtiz4_7bmaDe"
      },
      "source": [
        "---\n",
        "# 6 Conclusiones\n",
        "\n",
        "Luego de numerosas pruebas, pudimos comprobar que el uso de GPU mejora notablemente el tiempo de ejecución del algoritmo. <br><br>\n",
        "Sin embargo, se debe tener en consideración que si el tamaño de la matriz a procesar es relativamente pequeño (por ejemplo, de 4x4), no es conveniente el uso de GPU, ya que este toma más tiempo. Esto se debe a que no siempre se justifica el acceso a GPU, sobre todo para procesamientos pequeños, ya que hay muchas capas intermedias entre la aplicación que se está ejecutando y el GPU.<br>\n",
        "De modo contrario, cuanto mayor sea el tamaño de la matriz, más diferencia habrá entre el tiempo de procesamiento por CPU y GPU, escalando este exponencialmente."
      ]
    },
    {
      "cell_type": "markdown",
      "metadata": {
        "id": "ufDYy0LPmbYH"
      },
      "source": [
        "---\n",
        "# 7 Bibliografía\n",
        "\n",
        "1.   Matrix-Matrix Multiplication on the GPU with Nvidia CUDA: [Página Web](https://www.quantstart.com/articles/Matrix-Matrix-Multiplication-on-the-GPU-with-Nvidia-CUDA/)\n",
        "2.  Python program to multiply two matrices: [Página Web](https://www.geeksforgeeks.org/python-program-multiply-two-matrices/)\n",
        "\n"
      ]
    }
  ]
}